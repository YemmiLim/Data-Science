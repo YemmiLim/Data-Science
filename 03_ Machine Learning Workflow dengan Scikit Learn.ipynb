{
 "cells": [
  {
   "cell_type": "markdown",
   "id": "4cc6d282",
   "metadata": {},
   "source": [
    "## Machine Learning Workflow dengan Scikit Learn"
   ]
  },
  {
   "cell_type": "markdown",
   "id": "46433ed0",
   "metadata": {},
   "source": [
    "### Iris Dataset"
   ]
  },
  {
   "cell_type": "code",
   "execution_count": 1,
   "id": "cde58fd4",
   "metadata": {},
   "outputs": [],
   "source": [
    "from sklearn.datasets import load_iris\n",
    "iris= load_iris()\n",
    "\n",
    "x=iris.data\n",
    "y=iris.target\n"
   ]
  },
  {
   "cell_type": "markdown",
   "id": "43f31be5",
   "metadata": {},
   "source": [
    "### Spliting Dataset "
   ]
  },
  {
   "cell_type": "code",
   "execution_count": 3,
   "id": "8a583a99",
   "metadata": {},
   "outputs": [],
   "source": [
    "from sklearn.model_selection import train_test_split\n",
    "\n",
    "x_train, x_test, y_train, y_test =train_test_split(x,\n",
    "                                                   y,\n",
    "                                                  test_size=0.4,\n",
    "                                                  random_state=1)"
   ]
  },
  {
   "cell_type": "markdown",
   "id": "4e30bd9d",
   "metadata": {},
   "source": [
    "### Training Model  menggunakan FIT() DAN PREDICT()\n",
    "### Fit()digunakan untuk training model\n",
    "### predict() digunakan untuk prediksi trained model\n"
   ]
  },
  {
   "cell_type": "code",
   "execution_count": 4,
   "id": "7f458796",
   "metadata": {},
   "outputs": [
    {
     "data": {
      "text/plain": [
       "KNeighborsClassifier(n_neighbors=3)"
      ]
     },
     "execution_count": 4,
     "metadata": {},
     "output_type": "execute_result"
    }
   ],
   "source": [
    "from sklearn.neighbors import KNeighborsClassifier\n",
    "\n",
    "model=KNeighborsClassifier(n_neighbors=3)\n",
    "model.fit(x_train, y_train)"
   ]
  },
  {
   "cell_type": "markdown",
   "id": "f58cf610",
   "metadata": {},
   "source": [
    "### Evaluasi Model"
   ]
  },
  {
   "cell_type": "code",
   "execution_count": 5,
   "id": "b2f1a5f4",
   "metadata": {},
   "outputs": [
    {
     "name": "stdout",
     "output_type": "stream",
     "text": [
      "Accuracy: 0.9833333333333333\n"
     ]
    }
   ],
   "source": [
    "from sklearn.metrics import accuracy_score\n",
    "\n",
    "y_pred= model.predict(x_test)\n",
    "acc= accuracy_score(y_test, y_pred)\n",
    "print(f'Accuracy: {acc}')"
   ]
  },
  {
   "cell_type": "markdown",
   "id": "4c466bea",
   "metadata": {},
   "source": [
    "### Pemanfaatan Trained Model"
   ]
  },
  {
   "cell_type": "code",
   "execution_count": 6,
   "id": "991d9cae",
   "metadata": {},
   "outputs": [
    {
     "data": {
      "text/plain": [
       "array([1, 2])"
      ]
     },
     "execution_count": 6,
     "metadata": {},
     "output_type": "execute_result"
    }
   ],
   "source": [
    "data_baru= [[5,5,3,2],\n",
    "           [2,4,3,5]]\n",
    "\n",
    "preds= model.predict(data_baru)\n",
    "preds"
   ]
  },
  {
   "cell_type": "code",
   "execution_count": 8,
   "id": "607fe450",
   "metadata": {},
   "outputs": [
    {
     "name": "stdout",
     "output_type": "stream",
     "text": [
      "Hasil Prediksi:['versicolor', 'virginica']\n"
     ]
    }
   ],
   "source": [
    "pred_species= [iris.target_names[p] for p in preds]\n",
    "print(f'Hasil Prediksi:{pred_species}')"
   ]
  },
  {
   "cell_type": "markdown",
   "id": "4de3c09b",
   "metadata": {},
   "source": [
    "### Dump &load trained model dari file joblib"
   ]
  },
  {
   "cell_type": "code",
   "execution_count": 9,
   "id": "b97f7414",
   "metadata": {},
   "outputs": [
    {
     "data": {
      "text/plain": [
       "['iris_classifier_knn.joblib']"
      ]
     },
     "execution_count": 9,
     "metadata": {},
     "output_type": "execute_result"
    }
   ],
   "source": [
    "import joblib\n",
    "\n",
    "joblib.dump(model, 'iris_classifier_knn.joblib')"
   ]
  },
  {
   "cell_type": "markdown",
   "id": "f8cfc085",
   "metadata": {},
   "source": [
    "### Loading model machine learning"
   ]
  },
  {
   "cell_type": "code",
   "execution_count": 10,
   "id": "08488f61",
   "metadata": {},
   "outputs": [],
   "source": [
    "production_model= joblib.load('iris_classifier_knn.joblib')"
   ]
  },
  {
   "cell_type": "code",
   "execution_count": null,
   "id": "e4dcdd80",
   "metadata": {},
   "outputs": [],
   "source": []
  }
 ],
 "metadata": {
  "kernelspec": {
   "display_name": "Python 3",
   "language": "python",
   "name": "python3"
  },
  "language_info": {
   "codemirror_mode": {
    "name": "ipython",
    "version": 3
   },
   "file_extension": ".py",
   "mimetype": "text/x-python",
   "name": "python",
   "nbconvert_exporter": "python",
   "pygments_lexer": "ipython3",
   "version": "3.8.8"
  }
 },
 "nbformat": 4,
 "nbformat_minor": 5
}
