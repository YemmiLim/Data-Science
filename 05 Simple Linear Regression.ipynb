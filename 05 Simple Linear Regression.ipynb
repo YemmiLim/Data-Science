{
 "cells": [
  {
   "cell_type": "code",
   "execution_count": 1,
   "id": "d8fc678f",
   "metadata": {},
   "outputs": [
    {
     "data": {
      "text/html": [
       "<div>\n",
       "<style scoped>\n",
       "    .dataframe tbody tr th:only-of-type {\n",
       "        vertical-align: middle;\n",
       "    }\n",
       "\n",
       "    .dataframe tbody tr th {\n",
       "        vertical-align: top;\n",
       "    }\n",
       "\n",
       "    .dataframe thead th {\n",
       "        text-align: right;\n",
       "    }\n",
       "</style>\n",
       "<table border=\"1\" class=\"dataframe\">\n",
       "  <thead>\n",
       "    <tr style=\"text-align: right;\">\n",
       "      <th></th>\n",
       "      <th>diameter</th>\n",
       "      <th>harga</th>\n",
       "    </tr>\n",
       "  </thead>\n",
       "  <tbody>\n",
       "    <tr>\n",
       "      <th>0</th>\n",
       "      <td>6</td>\n",
       "      <td>7.0</td>\n",
       "    </tr>\n",
       "    <tr>\n",
       "      <th>1</th>\n",
       "      <td>8</td>\n",
       "      <td>9.0</td>\n",
       "    </tr>\n",
       "    <tr>\n",
       "      <th>2</th>\n",
       "      <td>10</td>\n",
       "      <td>13.0</td>\n",
       "    </tr>\n",
       "    <tr>\n",
       "      <th>3</th>\n",
       "      <td>14</td>\n",
       "      <td>17.5</td>\n",
       "    </tr>\n",
       "    <tr>\n",
       "      <th>4</th>\n",
       "      <td>18</td>\n",
       "      <td>18.0</td>\n",
       "    </tr>\n",
       "  </tbody>\n",
       "</table>\n",
       "</div>"
      ],
      "text/plain": [
       "   diameter  harga\n",
       "0         6    7.0\n",
       "1         8    9.0\n",
       "2        10   13.0\n",
       "3        14   17.5\n",
       "4        18   18.0"
      ]
     },
     "execution_count": 1,
     "metadata": {},
     "output_type": "execute_result"
    }
   ],
   "source": [
    "import pandas as pd \n",
    "\n",
    "pizza={'diameter':[6,8,10,14,18],\n",
    "      'harga':[7,9,13,17.5,18]}\n",
    "\n",
    "pizza_df = pd.DataFrame(pizza)\n",
    "pizza_df"
   ]
  },
  {
   "cell_type": "code",
   "execution_count": 2,
   "id": "46fca171",
   "metadata": {},
   "outputs": [
    {
     "data": {
      "image/png": "[encoded data removed]",
      "text/plain": [
       "<Figure size 640x480 with 1 Axes>"
      ]
     },
     "metadata": {},
     "output_type": "display_data"
    }
   ],
   "source": [
    "import matplotlib.pyplot as plt\n",
    "\n",
    "pizza_df.plot(kind='scatter',x='diameter',y='harga')\n",
    "\n",
    "plt.title('Perbandingan Diameter dan harga Pizza')\n",
    "plt.xlabel('Diameter(inch)')\n",
    "plt.ylabel('Harga(dollar)')\n",
    "plt.xlim(0,25)\n",
    "plt.ylim(0,25)\n",
    "plt.grid(True)\n",
    "plt.show()"
   ]
  },
  {
   "cell_type": "markdown",
   "id": "78acf195",
   "metadata": {},
   "source": [
    "## Penyesuaian data set"
   ]
  },
  {
   "cell_type": "code",
   "execution_count": 3,
   "id": "c44e9b29",
   "metadata": {},
   "outputs": [
    {
     "name": "stdout",
     "output_type": "stream",
     "text": [
      "X : [ 6  8 10 14 18]\n",
      "Y : [ 7.   9.  13.  17.5 18. ]\n"
     ]
    }
   ],
   "source": [
    "import numpy as np\n",
    "\n",
    "x=np.array(pizza_df['diameter'])\n",
    "y=np.array(pizza_df['harga'])\n",
    "\n",
    "print('X :',x)\n",
    "print('Y :',y)"
   ]
  },
  {
   "cell_type": "code",
   "execution_count": 4,
   "id": "3b9573db",
   "metadata": {},
   "outputs": [
    {
     "data": {
      "text/plain": [
       "(5, 1)"
      ]
     },
     "execution_count": 4,
     "metadata": {},
     "output_type": "execute_result"
    }
   ],
   "source": [
    "x=x.reshape(-1,1)\n",
    "x.shape"
   ]
  },
  {
   "cell_type": "code",
   "execution_count": 5,
   "id": "31ede82a",
   "metadata": {},
   "outputs": [
    {
     "data": {
      "text/plain": [
       "array([[ 6],\n",
       "       [ 8],\n",
       "       [10],\n",
       "       [14],\n",
       "       [18]], dtype=int64)"
      ]
     },
     "execution_count": 5,
     "metadata": {},
     "output_type": "execute_result"
    }
   ],
   "source": [
    "x"
   ]
  },
  {
   "cell_type": "markdown",
   "id": "611a2da6",
   "metadata": {},
   "source": [
    "### Training simple linear regression Model"
   ]
  },
  {
   "cell_type": "code",
   "execution_count": 6,
   "id": "8fbf9f0b",
   "metadata": {},
   "outputs": [
    {
     "data": {
      "text/plain": [
       "LinearRegression()"
      ]
     },
     "execution_count": 6,
     "metadata": {},
     "output_type": "execute_result"
    }
   ],
   "source": [
    "from sklearn.linear_model import LinearRegression\n",
    "\n",
    "model=LinearRegression()\n",
    "model.fit(x,y)"
   ]
  },
  {
   "cell_type": "markdown",
   "id": "3afd5303",
   "metadata": {},
   "source": [
    "### Visualisasi Simple Linear Regression model"
   ]
  },
  {
   "cell_type": "code",
   "execution_count": 7,
   "id": "56775125",
   "metadata": {},
   "outputs": [],
   "source": [
    "x_vis=np.array([0, 25]).reshape(-1, 1)\n",
    "y_vis=model.predict(x_vis)"
   ]
  },
  {
   "cell_type": "code",
   "execution_count": 8,
   "id": "8ac7d9d1",
   "metadata": {},
   "outputs": [
    {
     "data": {
      "image/png": "[encoded data removed]",
      "text/plain": [
       "<Figure size 640x480 with 1 Axes>"
      ]
     },
     "metadata": {},
     "output_type": "display_data"
    }
   ],
   "source": [
    "plt.scatter(x, y)\n",
    "plt.plot(x_vis, y_vis, '-r')\n",
    "\n",
    "plt.title('Perbandingan Diameter dan Harga Pizza')\n",
    "plt.xlabel('Diameter (inch)')\n",
    "plt.ylabel('Harga (dollar)')\n",
    "plt.xlim(0,25)\n",
    "plt.ylim(0,25)\n",
    "plt.grid(True)\n",
    "plt.show()"
   ]
  },
  {
   "cell_type": "code",
   "execution_count": 13,
   "id": "dfbe98b7",
   "metadata": {},
   "outputs": [
    {
     "name": "stdout",
     "output_type": "stream",
     "text": [
      "intercept : 1.965517241379315\n",
      "slope : [0.9762931]\n"
     ]
    }
   ],
   "source": [
    "print('intercept :',model.intercept_)\n",
    "print('slope :',model.coef_)"
   ]
  },
  {
   "cell_type": "markdown",
   "id": "eb0546bc",
   "metadata": {},
   "source": [
    "### Mencari nilai Slope"
   ]
  },
  {
   "cell_type": "code",
   "execution_count": 9,
   "id": "3584c7cc",
   "metadata": {},
   "outputs": [
    {
     "name": "stdout",
     "output_type": "stream",
     "text": [
      "x : [[ 6]\n",
      " [ 8]\n",
      " [10]\n",
      " [14]\n",
      " [18]]\n",
      "flatten : [ 6  8 10 14 18]\n",
      "y : [ 7.   9.  13.  17.5 18. ]\n"
     ]
    }
   ],
   "source": [
    "print('x :',x)\n",
    "print('flatten :',x.flatten())\n",
    "print('y :',y)"
   ]
  },
  {
   "cell_type": "markdown",
   "id": "2102fada",
   "metadata": {},
   "source": [
    "### Variance"
   ]
  },
  {
   "cell_type": "code",
   "execution_count": 10,
   "id": "ef03ee13",
   "metadata": {},
   "outputs": [
    {
     "name": "stdout",
     "output_type": "stream",
     "text": [
      "Variance : 23.2\n"
     ]
    }
   ],
   "source": [
    "variance_x=np.var(x.flatten(),ddof=1)\n",
    "\n",
    "print('Variance :', variance_x)"
   ]
  },
  {
   "cell_type": "markdown",
   "id": "e12c0f36",
   "metadata": {},
   "source": [
    "### Covariance"
   ]
  },
  {
   "cell_type": "code",
   "execution_count": 12,
   "id": "c518b820",
   "metadata": {},
   "outputs": [
    {
     "data": {
      "text/plain": [
       "array([[23.2 , 22.65],\n",
       "       [22.65, 24.3 ]])"
      ]
     },
     "execution_count": 12,
     "metadata": {},
     "output_type": "execute_result"
    }
   ],
   "source": [
    "np.cov(x.flatten(),y)"
   ]
  },
  {
   "cell_type": "code",
   "execution_count": 14,
   "id": "a006b237",
   "metadata": {},
   "outputs": [
    {
     "name": "stdout",
     "output_type": "stream",
     "text": [
      "covariance : 22.650000000000002\n"
     ]
    }
   ],
   "source": [
    "covariance_xy =np.cov(x.flatten(),y)[0][1]\n",
    "print('covariance :',covariance_xy)"
   ]
  },
  {
   "cell_type": "markdown",
   "id": "0fbd1002",
   "metadata": {},
   "source": [
    "### Slope"
   ]
  },
  {
   "cell_type": "code",
   "execution_count": 15,
   "id": "419c4e58",
   "metadata": {},
   "outputs": [
    {
     "name": "stdout",
     "output_type": "stream",
     "text": [
      "0.976293103448276\n"
     ]
    }
   ],
   "source": [
    "slope =covariance_xy / variance_x\n",
    "\n",
    "print(slope)"
   ]
  },
  {
   "cell_type": "markdown",
   "id": "a1e78eba",
   "metadata": {},
   "source": [
    "### Mencari nilai intercept"
   ]
  },
  {
   "cell_type": "code",
   "execution_count": 16,
   "id": "3e32149b",
   "metadata": {},
   "outputs": [
    {
     "name": "stdout",
     "output_type": "stream",
     "text": [
      "intercept:  1.9655172413793096\n"
     ]
    }
   ],
   "source": [
    "intercept =np.mean(y)-slope*np.mean(x)\n",
    "print('intercept: ',intercept)"
   ]
  },
  {
   "cell_type": "markdown",
   "id": "70db6194",
   "metadata": {},
   "source": [
    "### Prediksi harga Pizza"
   ]
  },
  {
   "cell_type": "code",
   "execution_count": 17,
   "id": "96a3c1fd",
   "metadata": {},
   "outputs": [
    {
     "data": {
      "text/plain": [
       "array([[12],\n",
       "       [20],\n",
       "       [23]])"
      ]
     },
     "execution_count": 17,
     "metadata": {},
     "output_type": "execute_result"
    }
   ],
   "source": [
    "diameter_pizza=np.array([12, 20, 23]).reshape(-1, 1)\n",
    "diameter_pizza"
   ]
  },
  {
   "cell_type": "code",
   "execution_count": 18,
   "id": "d9ab64e8",
   "metadata": {},
   "outputs": [
    {
     "data": {
      "text/plain": [
       "array([13.68103448, 21.49137931, 24.42025862])"
      ]
     },
     "execution_count": 18,
     "metadata": {},
     "output_type": "execute_result"
    }
   ],
   "source": [
    "prediksi_harga=model.predict(diameter_pizza)\n",
    "prediksi_harga"
   ]
  },
  {
   "cell_type": "code",
   "execution_count": 19,
   "id": "500b2106",
   "metadata": {},
   "outputs": [
    {
     "name": "stdout",
     "output_type": "stream",
     "text": [
      "Diameter [12]  Prediksi harga:  13.681034482758621\n",
      "Diameter [20]  Prediksi harga:  21.491379310344826\n",
      "Diameter [23]  Prediksi harga:  24.42025862068965\n"
     ]
    }
   ],
   "source": [
    "for dmtr,hrg in zip(diameter_pizza, prediksi_harga):\n",
    "    print('Diameter',dmtr,' Prediksi harga: 'hrg)"
   ]
  },
  {
   "cell_type": "markdown",
   "id": "6df81c56",
   "metadata": {},
   "source": [
    "## Evaluasi Simple Linear Regression"
   ]
  },
  {
   "cell_type": "markdown",
   "id": "0168aa1c",
   "metadata": {},
   "source": [
    "### Training and Testting"
   ]
  },
  {
   "cell_type": "code",
   "execution_count": 23,
   "id": "a4f66be8",
   "metadata": {},
   "outputs": [],
   "source": [
    "x_train=np.array([6, 8, 10, 14, 18]).reshape(-1, 1)\n",
    "y_train=np.array([7, 9, 13, 17.5, 18])\n",
    "\n",
    "x_test=np.array([8, 9, 11, 16, 12]).reshape(-1, 1)\n",
    "y_test=np.array([11, 8.5, 15, 18, 11])"
   ]
  },
  {
   "cell_type": "markdown",
   "id": "319ae595",
   "metadata": {},
   "source": [
    "### Training SLR model"
   ]
  },
  {
   "cell_type": "code",
   "execution_count": 24,
   "id": "824fc9a8",
   "metadata": {},
   "outputs": [
    {
     "data": {
      "text/plain": [
       "LinearRegression()"
      ]
     },
     "execution_count": 24,
     "metadata": {},
     "output_type": "execute_result"
    }
   ],
   "source": [
    "model= LinearRegression()\n",
    "model.fit(x_train,y_train)"
   ]
  },
  {
   "cell_type": "code",
   "execution_count": 25,
   "id": "4e2d3a3d",
   "metadata": {},
   "outputs": [
    {
     "name": "stdout",
     "output_type": "stream",
     "text": [
      "R- Squared : 0.6620052929422553\n"
     ]
    }
   ],
   "source": [
    "from sklearn.metrics import r2_score\n",
    "\n",
    "y_pred=model.predict(x_test)\n",
    "\n",
    "r_squared =r2_score(y_test,y_pred)\n",
    "\n",
    "print('R- Squared :',r_squared)"
   ]
  },
  {
   "cell_type": "markdown",
   "id": "c9a8d305",
   "metadata": {},
   "source": [
    "### Mencari nilai R-Squared residual"
   ]
  },
  {
   "cell_type": "code",
   "execution_count": 28,
   "id": "2dc343d3",
   "metadata": {},
   "outputs": [
    {
     "name": "stdout",
     "output_type": "stream",
     "text": [
      "ss_res:  19.1980993608799\n"
     ]
    }
   ],
   "source": [
    "ss_res =sum([(y_i - model.predict(x_i.reshape(-1, 1))[0])**2\n",
    "             for x_i, y_i in zip(x_test, y_test)])\n",
    "             \n",
    "print ('ss_res: ',ss_res)"
   ]
  },
  {
   "cell_type": "markdown",
   "id": "7b8a3bca",
   "metadata": {},
   "source": [
    "### SS total"
   ]
  },
  {
   "cell_type": "code",
   "execution_count": 30,
   "id": "3b789c49",
   "metadata": {},
   "outputs": [
    {
     "name": "stdout",
     "output_type": "stream",
     "text": [
      "56.8\n"
     ]
    }
   ],
   "source": [
    "mean_y=np.mean(y_test)\n",
    "ss_tot=sum([(y_i-mean_y)**2 for y_i in y_test])\n",
    "\n",
    "print(ss_tot)"
   ]
  },
  {
   "cell_type": "markdown",
   "id": "023cd0fe",
   "metadata": {},
   "source": [
    "### R2"
   ]
  },
  {
   "cell_type": "code",
   "execution_count": 31,
   "id": "20c434ce",
   "metadata": {},
   "outputs": [
    {
     "name": "stdout",
     "output_type": "stream",
     "text": [
      "R-squared : 0.6620052929422553\n"
     ]
    }
   ],
   "source": [
    "r_squared=1-(ss_res /ss_tot)\n",
    "\n",
    "print('R-squared :',r_squared)"
   ]
  },
  {
   "cell_type": "code",
   "execution_count": null,
   "id": "3b51c917",
   "metadata": {},
   "outputs": [],
   "source": []
  }
 ],
 "metadata": {
  "kernelspec": {
   "display_name": "Python 3 (ipykernel)",
   "language": "python",
   "name": "python3"
  },
  "language_info": {
   "codemirror_mode": {
    "name": "ipython",
    "version": 3
   },
   "file_extension": ".py",
   "mimetype": "text/x-python",
   "name": "python",
   "nbconvert_exporter": "python",
   "pygments_lexer": "ipython3",
   "version": "3.9.13"
  }
 },
 "nbformat": 4,
 "nbformat_minor": 5
}
